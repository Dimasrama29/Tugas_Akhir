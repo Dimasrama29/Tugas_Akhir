{
 "cells": [
  {
   "cell_type": "markdown",
   "id": "7d62d48c",
   "metadata": {},
   "source": [
    "# https://nirpyresearch.com/cricket-thermometer-intro-pca-python/"
   ]
  },
  {
   "cell_type": "code",
   "execution_count": 15,
   "id": "1691d5e4",
   "metadata": {},
   "outputs": [],
   "source": [
    "import numpy as np\n",
    "import matplotlib.pyplot as plt\n",
    "import pandas as pd "
   ]
  },
  {
   "cell_type": "code",
   "execution_count": 16,
   "id": "4aafc88a",
   "metadata": {},
   "outputs": [],
   "source": [
    "# Read the data\n",
    "data = pd.read_csv('datasets/PCA/slr02.csv')\n",
    "cs = data[\"X\"].values\n",
    "temp = data[\"Y\"].values"
   ]
  },
  {
   "cell_type": "code",
   "execution_count": 17,
   "id": "f3e6554f",
   "metadata": {},
   "outputs": [],
   "source": [
    "# Take away the mean\n",
    "x = cs - cs.mean()\n",
    "y = temp - temp.mean()"
   ]
  },
  {
   "cell_type": "code",
   "execution_count": 18,
   "id": "7299cda0",
   "metadata": {
    "scrolled": true
   },
   "outputs": [],
   "source": [
    "# Group the data into a single matrix\n",
    "datamatrix = np.array([x,y])\n",
    "\n",
    "# Calculate the covariance matrix\n",
    "covmat = np.cov(datamatrix)"
   ]
  },
  {
   "cell_type": "code",
   "execution_count": 19,
   "id": "d49da476",
   "metadata": {},
   "outputs": [],
   "source": [
    "# Find eigenvalues and eigenvectors of the covariance matrix\n",
    "w,v = np.linalg.eig(covmat)"
   ]
  },
  {
   "cell_type": "code",
   "execution_count": 20,
   "id": "9cb5c857",
   "metadata": {},
   "outputs": [],
   "source": [
    "# Get the index of the largest eigenvalue\n",
    "maxeig = np.argmax(w)"
   ]
  },
  {
   "cell_type": "code",
   "execution_count": 21,
   "id": "938de214",
   "metadata": {},
   "outputs": [],
   "source": [
    "# Get the slope of the line passing through the origin and the largest eigenvector\n",
    "m = -v[maxeig, 1]/v[maxeig, 0]\n",
    "line = m*x"
   ]
  },
  {
   "cell_type": "code",
   "execution_count": 25,
   "id": "55db6981",
   "metadata": {},
   "outputs": [
    {
     "data": {
      "text/plain": [
       "array([[ 0.97746833,  0.21108215],\n",
       "       [-0.21108215,  0.97746833]])"
      ]
     },
     "execution_count": 25,
     "metadata": {},
     "output_type": "execute_result"
    }
   ],
   "source": [
    "-v"
   ]
  },
  {
   "cell_type": "code",
   "execution_count": 23,
   "id": "6622ec1f",
   "metadata": {},
   "outputs": [
    {
     "data": {
      "image/png": "[encoded data removed]",
      "text/plain": [
       "<Figure size 432x288 with 1 Axes>"
      ]
     },
     "metadata": {
      "needs_background": "light"
     },
     "output_type": "display_data"
    }
   ],
   "source": [
    "plt.scatter(x, y)\n",
    "plt.xlabel('x')\n",
    "plt.ylabel('y')\n",
    "plt.quiver(0,0, x[0], line[0], units = 'xy', scale = 1, color='r', width = 0.2)\n",
    "plt.axis('equal')\n",
    "plt.ylim((-18,18))\n",
    "plt.show()"
   ]
  },
  {
   "cell_type": "code",
   "execution_count": 24,
   "id": "4f68f073",
   "metadata": {},
   "outputs": [
    {
     "name": "stdout",
     "output_type": "stream",
     "text": [
      "[[ 0.21108215  0.97746833]\n",
      " [-0.97746833  0.21108215]]\n"
     ]
    }
   ],
   "source": [
    "from sklearn.decomposition import PCA \n",
    "\n",
    "datazip = list(zip(x,y))\n",
    "pca = PCA(n_components=2)\n",
    "pca.fit(datazip)\n",
    "\n",
    "# Print the eigenvectors\n",
    "print(pca.components_)"
   ]
  }
 ],
 "metadata": {
  "kernelspec": {
   "display_name": "Python 3 (ipykernel)",
   "language": "python",
   "name": "python3"
  },
  "language_info": {
   "codemirror_mode": {
    "name": "ipython",
    "version": 3
   },
   "file_extension": ".py",
   "mimetype": "text/x-python",
   "name": "python",
   "nbconvert_exporter": "python",
   "pygments_lexer": "ipython3",
   "version": "3.9.7"
  }
 },
 "nbformat": 4,
 "nbformat_minor": 5
}
